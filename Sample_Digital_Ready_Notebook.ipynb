{
 "cells": [
  {
   "cell_type": "markdown",
   "id": "03e750bf",
   "metadata": {
    "tags": []
   },
   "source": [
    "# Introduction to Python (Day 1)\n",
    "\n",
    "## Variables\n",
    "*Variables* allow us to store data (e.g., numbers and words)."
   ]
  },
  {
   "cell_type": "code",
   "execution_count": null,
   "id": "da2e161b",
   "metadata": {},
   "outputs": [],
   "source": [
    "# The variable \"my_var1\" stores the number 10\n",
    "my_var1 = 10\n",
    "# The variable \"my_var2\" stores the word \"apple\"\n",
    "my_var2 = \"apple\""
   ]
  },
  {
   "cell_type": "markdown",
   "id": "471e9c20",
   "metadata": {},
   "source": [
    "Now that we have some variables with data stored inside them, we can access that data later."
   ]
  },
  {
   "cell_type": "code",
   "execution_count": null,
   "id": "ff35abf0",
   "metadata": {},
   "outputs": [],
   "source": [
    "# This line will tell the computer to print out whatever the data stored inside my_var1 is\n",
    "print(my_var1)\n",
    "# Likewise for my_var2\n",
    "print(my_var2)"
   ]
  },
  {
   "cell_type": "markdown",
   "id": "42c320d9",
   "metadata": {},
   "source": [
    "In general, we'll talk about four *datatypes* that are a part of Python. These are:\n",
    "- Integers (sometimes called \"ints\"), which are values like -1, 15, 8, 0, and 12\n",
    "- Floating point numbers (sometimes called \"floats\"), which are values like -1.85, 6.24, 8.11, and 12.00\n",
    "- Strings, which are text *enclosed in quotes* like \"a\", \"Digital Ready is awesome\", and \"TikTok is great!\"\n",
    "- Booleans (sometimes called \"bools\"), which are just the values True or False"
   ]
  },
  {
   "cell_type": "code",
   "execution_count": null,
   "id": "52052b05",
   "metadata": {
    "jupyter": {
     "source_hidden": true
    },
    "tags": []
   },
   "outputs": [],
   "source": [
    "def whatType(a):\n",
    "    t = str(type(a))\n",
    "    if \"str\" in t:\n",
    "        return \"String\"\n",
    "    elif \"int\" in t:\n",
    "        return \"Integer\"\n",
    "    elif \"float\" in t:\n",
    "        return \"Floating Point\"\n",
    "    elif \"bool\" in t:\n",
    "        return \"Boolean\"\n",
    "    else:\n",
    "        return t"
   ]
  },
  {
   "cell_type": "code",
   "execution_count": null,
   "id": "a5c26330",
   "metadata": {
    "tags": []
   },
   "outputs": [],
   "source": [
    "# Take a look at each of the variables below and consider the rules you just read.\n",
    "# Try to predict what will be printed by the \"type()\" function (which tells us the\n",
    "# type of a variable) and check your answers by running the code.\n",
    "\n",
    "my_var3 = 10\n",
    "my_var4 = \"Python\"\n",
    "my_var5 = 78.142\n",
    "my_var6 = True\n",
    "my_var7 = \"32.145\"\n",
    "\n",
    "print(\"my_var3 is a/an \" + whatType(my_var3))\n",
    "print(\"my_var4 is a/an \" + whatType(my_var4))\n",
    "print(\"my_var5 is a/an \" + whatType(my_var5))\n",
    "print(\"my_var6 is a/an \" + whatType(my_var6))\n",
    "print(\"my_var7 is a/an \" + whatType(my_var7))"
   ]
  },
  {
   "cell_type": "code",
   "execution_count": null,
   "id": "085f87e3",
   "metadata": {},
   "outputs": [],
   "source": []
  }
 ],
 "metadata": {
  "kernelspec": {
   "display_name": "Python 3",
   "language": "python",
   "name": "python3"
  },
  "language_info": {
   "codemirror_mode": {
    "name": "ipython",
    "version": 3
   },
   "file_extension": ".py",
   "mimetype": "text/x-python",
   "name": "python",
   "nbconvert_exporter": "python",
   "pygments_lexer": "ipython3",
   "version": "3.8.5"
  }
 },
 "nbformat": 4,
 "nbformat_minor": 5
}
